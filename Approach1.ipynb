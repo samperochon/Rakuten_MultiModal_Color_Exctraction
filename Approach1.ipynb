{
  "nbformat": 4,
  "nbformat_minor": 0,
  "metadata": {
    "colab": {
      "name": "Approach1.ipynb",
      "provenance": [],
      "collapsed_sections": [],
      "toc_visible": true
    },
    "kernelspec": {
      "name": "python3",
      "display_name": "Python 3"
    },
    "accelerator": "GPU"
  },
  "cells": [
    {
      "cell_type": "markdown",
      "metadata": {
        "id": "0gIYclmObog7"
      },
      "source": [
        "# Preliminaries"
      ]
    },
    {
      "cell_type": "markdown",
      "metadata": {
        "id": "xJtIENB0cF5J"
      },
      "source": [
        "## Install and import libraries "
      ]
    },
    {
      "cell_type": "code",
      "metadata": {
        "id": "8NdM4ALqcIFH"
      },
      "source": [
        "import torch\n",
        "import torch.nn.functional as F\n",
        "import os\n",
        "import ast\n",
        "import csv\n",
        "import pandas as pd"
      ],
      "execution_count": 1,
      "outputs": []
    },
    {
      "cell_type": "markdown",
      "metadata": {
        "id": "uebs-Yy6b9-n"
      },
      "source": [
        "## Set computation engine"
      ]
    },
    {
      "cell_type": "code",
      "metadata": {
        "colab": {
          "base_uri": "https://localhost:8080/"
        },
        "id": "m4gY0v3cbwM7",
        "outputId": "0731e6b6-37f9-4360-e8de-1a76e4fa20e9"
      },
      "source": [
        "device = torch.device('cuda:0' if torch.cuda.is_available() else 'cpu')\n",
        "print(device)"
      ],
      "execution_count": 2,
      "outputs": [
        {
          "output_type": "stream",
          "text": [
            "cuda:0\n"
          ],
          "name": "stdout"
        }
      ]
    },
    {
      "cell_type": "markdown",
      "metadata": {
        "id": "oVRu7l0OXuFf"
      },
      "source": [
        "## Connect to drive"
      ]
    },
    {
      "cell_type": "code",
      "metadata": {
        "colab": {
          "base_uri": "https://localhost:8080/"
        },
        "id": "GS6mqLI8XwpC",
        "outputId": "dae9411c-c1d4-47cb-c9d4-61042fc324ba"
      },
      "source": [
        "from google.colab import drive\n",
        "drive.mount('/content/drive')"
      ],
      "execution_count": 3,
      "outputs": [
        {
          "output_type": "stream",
          "text": [
            "Drive already mounted at /content/drive; to attempt to forcibly remount, call drive.mount(\"/content/drive\", force_remount=True).\n"
          ],
          "name": "stdout"
        }
      ]
    },
    {
      "cell_type": "markdown",
      "metadata": {
        "id": "Ro8lczLNXYti"
      },
      "source": [
        "#Load precomputed text features "
      ]
    },
    {
      "cell_type": "code",
      "metadata": {
        "id": "LdfYv3CXRrxe"
      },
      "source": [
        "class TextDataset(torch.utils.data.Dataset):\n",
        "\n",
        "    def __init__(self):\n",
        "      #Load pre-computed tensors\n",
        "      self.Xtrain_item_name = torch.load('/content/drive/MyDrive/data_rakuten/Xtrain_item_name.pt')\n",
        "      self.Xtrain_item_caption = torch.load('/content/drive/MyDrive/data_rakuten/Xtrain_item_caption.pt')\n",
        "      self.Ytrain_label = torch.load('/content/drive/MyDrive/data_rakuten/Ytrain_label.pt')\n",
        "        \n",
        "    def __len__(self):\n",
        "        return self.Xtrain_item_caption.shape[1]\n",
        "\n",
        "    def __getitem__(self, idx):\n",
        "\n",
        "        return  torch.cat((self.Xtrain_item_name[:,idx],self.Xtrain_item_caption[:,idx]),0),self.Ytrain_label[:,idx]\n",
        "\n",
        "trainSet= TextDataset()\n",
        "trainLoader = torch.utils.data.DataLoader(trainSet, batch_size=10,shuffle=True, num_workers=12)"
      ],
      "execution_count": 4,
      "outputs": []
    },
    {
      "cell_type": "markdown",
      "metadata": {
        "id": "oCIR6zXLYAHw"
      },
      "source": [
        "# Our prediction model"
      ]
    },
    {
      "cell_type": "markdown",
      "metadata": {
        "id": "mOuvOAZBtbzV"
      },
      "source": [
        "## Create the model"
      ]
    },
    {
      "cell_type": "code",
      "metadata": {
        "colab": {
          "base_uri": "https://localhost:8080/"
        },
        "id": "UwUARX4WYBqh",
        "outputId": "9adbffba-215e-4b4e-89d8-ca5ea6f75166"
      },
      "source": [
        "class CustomModel(torch.nn.Module):\n",
        "\n",
        "    def __init__(self):\n",
        "        super(CustomModel, self).__init__()\n",
        "\n",
        "        self.dropout = torch.nn.Dropout(0.1)\n",
        "        self.fc1 = torch.nn.Linear(1536, 128)\n",
        "        self.fc2 = torch.nn.Linear(128, 19)\n",
        "\n",
        "\n",
        "    def forward(self, text_features):\n",
        "        text_features = F.relu(self.fc1(text_features))\n",
        "        text_features = self.dropout(text_features)\n",
        "        logits = self.fc2(text_features)\n",
        "\n",
        "        return logits\n",
        "\n",
        "model=CustomModel()\n",
        "model.cuda()"
      ],
      "execution_count": 5,
      "outputs": [
        {
          "output_type": "execute_result",
          "data": {
            "text/plain": [
              "CustomModel(\n",
              "  (dropout): Dropout(p=0.1, inplace=False)\n",
              "  (fc1): Linear(in_features=1536, out_features=128, bias=True)\n",
              "  (fc2): Linear(in_features=128, out_features=19, bias=True)\n",
              ")"
            ]
          },
          "metadata": {
            "tags": []
          },
          "execution_count": 5
        }
      ]
    },
    {
      "cell_type": "markdown",
      "metadata": {
        "id": "f_W_qC1-tgBz"
      },
      "source": [
        "## Train the model"
      ]
    },
    {
      "cell_type": "code",
      "metadata": {
        "id": "y0Oh59DVQoDN"
      },
      "source": [
        "criterion = torch.nn.BCEWithLogitsLoss()\n",
        "optimizer = torch.optim.SGD(model.parameters(), lr=5e-4)\n",
        "scheduler = torch.optim.lr_scheduler.StepLR(optimizer, step_size=5, gamma=0.15)\n",
        "\n",
        "# Training\n",
        "def train(epoch):\n",
        "    print('\\nEpoch: %d' % epoch)\n",
        "    model.train()\n",
        "    train_loss = 0\n",
        "\n",
        "    for batch_idx, (inputs, targets) in enumerate(trainLoader):\n",
        "        inputs, targets = inputs.to(device), targets.to(device)\n",
        "\n",
        "        optimizer.zero_grad()\n",
        "        outputs = model(inputs)\n",
        "        \n",
        "        loss = criterion(outputs, targets)\n",
        "        loss.backward()\n",
        "        optimizer.step()\n",
        "\n",
        "\n",
        "        train_loss += loss.item()\n",
        "\n",
        "        if batch_idx%1000==0:\n",
        "            print('{:.0f}%|Train Loss: {:.5f} '.format(100*batch_idx/(len(trainLoader)+1),train_loss/(batch_idx+1)))"
      ],
      "execution_count": 6,
      "outputs": []
    },
    {
      "cell_type": "code",
      "metadata": {
        "colab": {
          "base_uri": "https://localhost:8080/"
        },
        "id": "9xx0CCKNWGWZ",
        "outputId": "bccb6a32-1e58-451f-b088-d7541d3069d4"
      },
      "source": [
        "# training loop\n",
        "for epoch in range(5):\n",
        "    train(epoch)\n",
        "    scheduler.step()"
      ],
      "execution_count": 7,
      "outputs": [
        {
          "output_type": "stream",
          "text": [
            "\n",
            "Epoch: 0\n",
            "0%|Train Loss: 0.70457 \n",
            "5%|Train Loss: 0.60461 \n",
            "9%|Train Loss: 0.52776 \n",
            "14%|Train Loss: 0.47148 \n",
            "19%|Train Loss: 0.43578 \n",
            "24%|Train Loss: 0.41197 \n",
            "28%|Train Loss: 0.39551 \n",
            "33%|Train Loss: 0.38341 \n",
            "38%|Train Loss: 0.37446 \n",
            "42%|Train Loss: 0.36756 \n",
            "47%|Train Loss: 0.36135 \n",
            "52%|Train Loss: 0.35643 \n",
            "57%|Train Loss: 0.35260 \n",
            "61%|Train Loss: 0.34925 \n",
            "66%|Train Loss: 0.34630 \n",
            "71%|Train Loss: 0.34395 \n",
            "75%|Train Loss: 0.34154 \n",
            "80%|Train Loss: 0.33929 \n",
            "85%|Train Loss: 0.33766 \n",
            "90%|Train Loss: 0.33612 \n",
            "94%|Train Loss: 0.33482 \n",
            "99%|Train Loss: 0.33351 \n",
            "\n",
            "Epoch: 1\n",
            "0%|Train Loss: 0.25280 \n",
            "5%|Train Loss: 0.30643 \n",
            "9%|Train Loss: 0.30905 \n",
            "14%|Train Loss: 0.30878 \n",
            "19%|Train Loss: 0.30895 \n",
            "24%|Train Loss: 0.30854 \n",
            "28%|Train Loss: 0.30775 \n",
            "33%|Train Loss: 0.30702 \n",
            "38%|Train Loss: 0.30715 \n",
            "42%|Train Loss: 0.30751 \n",
            "47%|Train Loss: 0.30775 \n",
            "52%|Train Loss: 0.30824 \n",
            "57%|Train Loss: 0.30828 \n",
            "61%|Train Loss: 0.30844 \n",
            "66%|Train Loss: 0.30867 \n",
            "71%|Train Loss: 0.30863 \n",
            "75%|Train Loss: 0.30849 \n",
            "80%|Train Loss: 0.30835 \n",
            "85%|Train Loss: 0.30830 \n",
            "90%|Train Loss: 0.30807 \n",
            "94%|Train Loss: 0.30829 \n",
            "99%|Train Loss: 0.30820 \n",
            "\n",
            "Epoch: 2\n",
            "0%|Train Loss: 0.28328 \n",
            "5%|Train Loss: 0.30648 \n",
            "9%|Train Loss: 0.30753 \n",
            "14%|Train Loss: 0.30757 \n",
            "19%|Train Loss: 0.30777 \n",
            "24%|Train Loss: 0.30799 \n",
            "28%|Train Loss: 0.30769 \n",
            "33%|Train Loss: 0.30739 \n",
            "38%|Train Loss: 0.30761 \n",
            "42%|Train Loss: 0.30788 \n",
            "47%|Train Loss: 0.30741 \n",
            "52%|Train Loss: 0.30764 \n",
            "57%|Train Loss: 0.30799 \n",
            "61%|Train Loss: 0.30828 \n",
            "66%|Train Loss: 0.30833 \n",
            "71%|Train Loss: 0.30829 \n",
            "75%|Train Loss: 0.30820 \n",
            "80%|Train Loss: 0.30810 \n",
            "85%|Train Loss: 0.30820 \n",
            "90%|Train Loss: 0.30815 \n",
            "94%|Train Loss: 0.30806 \n",
            "99%|Train Loss: 0.30804 \n",
            "\n",
            "Epoch: 3\n",
            "0%|Train Loss: 0.23074 \n",
            "5%|Train Loss: 0.30694 \n",
            "9%|Train Loss: 0.30938 \n",
            "14%|Train Loss: 0.30908 \n",
            "19%|Train Loss: 0.30921 \n",
            "24%|Train Loss: 0.30895 \n",
            "28%|Train Loss: 0.30831 \n",
            "33%|Train Loss: 0.30798 \n",
            "38%|Train Loss: 0.30772 \n",
            "42%|Train Loss: 0.30767 \n",
            "47%|Train Loss: 0.30790 \n",
            "52%|Train Loss: 0.30776 \n",
            "57%|Train Loss: 0.30781 \n",
            "61%|Train Loss: 0.30793 \n",
            "66%|Train Loss: 0.30778 \n",
            "71%|Train Loss: 0.30766 \n",
            "75%|Train Loss: 0.30777 \n",
            "80%|Train Loss: 0.30781 \n",
            "85%|Train Loss: 0.30776 \n",
            "90%|Train Loss: 0.30763 \n",
            "94%|Train Loss: 0.30764 \n",
            "99%|Train Loss: 0.30778 \n",
            "\n",
            "Epoch: 4\n",
            "0%|Train Loss: 0.26331 \n",
            "5%|Train Loss: 0.30809 \n",
            "9%|Train Loss: 0.30776 \n",
            "14%|Train Loss: 0.30697 \n",
            "19%|Train Loss: 0.30784 \n",
            "24%|Train Loss: 0.30738 \n",
            "28%|Train Loss: 0.30772 \n",
            "33%|Train Loss: 0.30835 \n",
            "38%|Train Loss: 0.30759 \n",
            "42%|Train Loss: 0.30753 \n",
            "47%|Train Loss: 0.30731 \n",
            "52%|Train Loss: 0.30721 \n",
            "57%|Train Loss: 0.30710 \n",
            "61%|Train Loss: 0.30752 \n",
            "66%|Train Loss: 0.30789 \n",
            "71%|Train Loss: 0.30776 \n",
            "75%|Train Loss: 0.30764 \n",
            "80%|Train Loss: 0.30789 \n",
            "85%|Train Loss: 0.30773 \n",
            "90%|Train Loss: 0.30759 \n",
            "94%|Train Loss: 0.30771 \n",
            "99%|Train Loss: 0.30767 \n"
          ],
          "name": "stdout"
        }
      ]
    },
    {
      "cell_type": "code",
      "metadata": {
        "id": "Q6T0LPrQ2cL_"
      },
      "source": [
        "#Save weights\n",
        "model_file = \"/content/drive/MyDrive/data_rakuten/textmodel.pth\"\n",
        "torch.save(model.state_dict(), model_file)"
      ],
      "execution_count": 8,
      "outputs": []
    },
    {
      "cell_type": "code",
      "metadata": {
        "colab": {
          "base_uri": "https://localhost:8080/"
        },
        "id": "sujzzGUM6-wB",
        "outputId": "9a37b2cc-6d06-4668-a014-0afa1fbbd3ab"
      },
      "source": [
        "#Load weights\n",
        "model_file = \"/content/drive/MyDrive/data_rakuten/textmodel.pth\"\n",
        "state_dict = torch.load(model_file)\n",
        "model.load_state_dict(state_dict)"
      ],
      "execution_count": 9,
      "outputs": [
        {
          "output_type": "execute_result",
          "data": {
            "text/plain": [
              "<All keys matched successfully>"
            ]
          },
          "metadata": {
            "tags": []
          },
          "execution_count": 9
        }
      ]
    },
    {
      "cell_type": "markdown",
      "metadata": {
        "id": "8Bp40W-rIl1s"
      },
      "source": [
        "# Generate csv file for submission"
      ]
    },
    {
      "cell_type": "code",
      "metadata": {
        "id": "z77idHmEJiDK"
      },
      "source": [
        "class TestDataset(torch.utils.data.Dataset):\n",
        "\n",
        "    def __init__(self,):\n",
        "\n",
        "        self.Xtest_item_name = torch.load('/content/drive/MyDrive/data_rakuten/Xtest_item_name.pt')\n",
        "        self.Xtest_item_caption = torch.load('/content/drive/MyDrive/data_rakuten/Xtest_item_caption.pt')\n",
        "        \n",
        "        \n",
        "\n",
        "    def __len__(self):\n",
        "        return self.Xtest_item_name.shape[1]\n",
        "\n",
        "\n",
        "    #all this processing needs to be done here because the output of __getitem__ needs to have a fixed size to use a BS>1\n",
        "    def __getitem__(self, idx):\n",
        " \n",
        "        return  torch.cat((self.Xtest_item_name[:,idx] ,self.Xtest_item_caption[:,idx]),0)\n",
        "\n",
        "testSet= TestDataset()\n",
        "testLoader = torch.utils.data.DataLoader(testSet, batch_size=1,shuffle=False, num_workers=2)"
      ],
      "execution_count": 10,
      "outputs": []
    },
    {
      "cell_type": "code",
      "metadata": {
        "id": "pU3vG7ZRIoXt"
      },
      "source": [
        "inv_dico_labels={ 0: \"Beige\",1:\"Black\",2:\"Blue\",3:\"Brown\",4:\"Burgundy\",5:\"Gold\",6:\"Green\",7:\"Grey\",\n",
        "                 8:\"Khaki\",9:\"Multiple Colors\",10:\"Navy\",11:\"Orange\",12:\"Pink\",\n",
        "                 13:\"Purple\",14:\"Red\",15:\"Silver\",16:\"Transparent\",17:\"White\",18:\"Yellow\"}\n",
        "\n",
        "model.eval()\n",
        "\n",
        "#Write prediction in the submission.csv file\n",
        "\n",
        "with open('/content/drive/MyDrive/data_rakuten/submission.csv', 'w') as csvfile:\n",
        "    spamwriter = csv.writer(csvfile, delimiter=',')\n",
        "    spamwriter.writerow([',color_tags,'])\n",
        "    with torch.no_grad():\n",
        "        for batch_idx, inputs in enumerate(testLoader):\n",
        "            inputs = inputs.to(device)\n",
        "            outputs = model(inputs)\n",
        "            prediction=[]\n",
        "            for indice,logits in enumerate(outputs.squeeze(0)):\n",
        "                if logits>-1: #put the tag if the proba is greater than 0.5\n",
        "                    prediction.append(inv_dico_labels[indice]) \n",
        "            \n",
        "            if len(prediction)>1:\n",
        "                spamwriter.writerow(['{},\"{}\"'.format(batch_idx,prediction)])\n",
        "            else:\n",
        "                spamwriter.writerow(['{},{}'.format(batch_idx,prediction)])\n",
        "            if batch_idx>300:\n",
        "              break"
      ],
      "execution_count": 11,
      "outputs": []
    }
  ]
}