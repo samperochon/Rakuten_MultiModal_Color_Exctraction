{
  "nbformat": 4,
  "nbformat_minor": 0,
  "metadata": {
    "colab": {
      "name": "Word2vecApproach.ipynb",
      "provenance": [],
      "authorship_tag": "ABX9TyM/OrIZ67rCyVog4Db3k5ro",
      "include_colab_link": true
    },
    "kernelspec": {
      "name": "python3",
      "display_name": "Python 3"
    }
  },
  "cells": [
    {
      "cell_type": "markdown",
      "metadata": {
        "id": "view-in-github",
        "colab_type": "text"
      },
      "source": [
        "<a href=\"https://colab.research.google.com/github/samperochon/Rakuten_MultiModal_Color_Exctraction/blob/master/Word2vecApproach.ipynb\" target=\"_parent\"><img src=\"https://colab.research.google.com/assets/colab-badge.svg\" alt=\"Open In Colab\"/></a>"
      ]
    },
    {
      "cell_type": "code",
      "metadata": {
        "colab": {
          "base_uri": "https://localhost:8080/"
        },
        "id": "41xHuyDgNzT-",
        "outputId": "fec3f42f-4b4b-460b-ca61-23a0718bbab4"
      },
      "source": [
        "!pip install wikipedia2vec\n",
        "from wikipedia2vec import Wikipedia2Vec"
      ],
      "execution_count": 1,
      "outputs": [
        {
          "output_type": "stream",
          "text": [
            "Collecting wikipedia2vec\n",
            "\u001b[?25l  Downloading https://files.pythonhosted.org/packages/d8/88/751037c70ca86581d444824e66bb799ef9060339a1d5d1fc1804c422d7cc/wikipedia2vec-1.0.4.tar.gz (1.2MB)\n",
            "\u001b[K     |████████████████████████████████| 1.2MB 10.4MB/s \n",
            "\u001b[?25hRequirement already satisfied: click in /usr/local/lib/python3.7/dist-packages (from wikipedia2vec) (7.1.2)\n",
            "Requirement already satisfied: jieba in /usr/local/lib/python3.7/dist-packages (from wikipedia2vec) (0.42.1)\n",
            "Requirement already satisfied: joblib in /usr/local/lib/python3.7/dist-packages (from wikipedia2vec) (1.0.1)\n",
            "Requirement already satisfied: lmdb in /usr/local/lib/python3.7/dist-packages (from wikipedia2vec) (0.99)\n",
            "Collecting marisa-trie\n",
            "\u001b[?25l  Downloading https://files.pythonhosted.org/packages/20/95/d23071d0992dabcb61c948fb118a90683193befc88c23e745b050a29e7db/marisa-trie-0.7.5.tar.gz (270kB)\n",
            "\u001b[K     |████████████████████████████████| 276kB 48.7MB/s \n",
            "\u001b[?25hCollecting mwparserfromhell\n",
            "\u001b[?25l  Downloading https://files.pythonhosted.org/packages/2b/d1/086f064c37c282e00315a4d1565d0fde41d7d9d81f2c18c95106641cc956/mwparserfromhell-0.6-cp37-cp37m-manylinux1_x86_64.whl (174kB)\n",
            "\u001b[K     |████████████████████████████████| 184kB 33.7MB/s \n",
            "\u001b[?25hRequirement already satisfied: numpy in /usr/local/lib/python3.7/dist-packages (from wikipedia2vec) (1.19.5)\n",
            "Requirement already satisfied: scipy in /usr/local/lib/python3.7/dist-packages (from wikipedia2vec) (1.4.1)\n",
            "Requirement already satisfied: six in /usr/local/lib/python3.7/dist-packages (from wikipedia2vec) (1.15.0)\n",
            "Requirement already satisfied: tqdm in /usr/local/lib/python3.7/dist-packages (from wikipedia2vec) (4.41.1)\n",
            "Building wheels for collected packages: wikipedia2vec, marisa-trie\n",
            "  Building wheel for wikipedia2vec (setup.py) ... \u001b[?25l\u001b[?25hdone\n",
            "  Created wheel for wikipedia2vec: filename=wikipedia2vec-1.0.4-cp37-cp37m-linux_x86_64.whl size=4569906 sha256=15eda0b15bd7ac394f761d8c9594987b7b06e981d8d1170172e63f5b7c668a8d\n",
            "  Stored in directory: /root/.cache/pip/wheels/16/e7/02/852c8ce366cc10adcf5d43c6471bbf926dd15c277578c13184\n",
            "  Building wheel for marisa-trie (setup.py) ... \u001b[?25l\u001b[?25hdone\n",
            "  Created wheel for marisa-trie: filename=marisa_trie-0.7.5-cp37-cp37m-linux_x86_64.whl size=861717 sha256=f2fcc7d5985f4de3724843b880d96cf8baeaeb699b5adc627231b4cfc759a573\n",
            "  Stored in directory: /root/.cache/pip/wheels/45/24/79/022624fc914f0e559fe8a1141aaff1f9df810905a13fc75d57\n",
            "Successfully built wikipedia2vec marisa-trie\n",
            "Installing collected packages: marisa-trie, mwparserfromhell, wikipedia2vec\n",
            "Successfully installed marisa-trie-0.7.5 mwparserfromhell-0.6 wikipedia2vec-1.0.4\n"
          ],
          "name": "stdout"
        }
      ]
    },
    {
      "cell_type": "code",
      "metadata": {
        "colab": {
          "base_uri": "https://localhost:8080/"
        },
        "id": "U7X29lg-Otp_",
        "outputId": "6d393eac-4493-4fbd-9a8a-85087ed9e2a4"
      },
      "source": [
        "!wget http://wikipedia2vec.s3.amazonaws.com/models/ja/2018-04-20/jawiki_20180420_100d.pkl.bz2"
      ],
      "execution_count": 3,
      "outputs": [
        {
          "output_type": "stream",
          "text": [
            "--2021-03-16 14:31:40--  http://wikipedia2vec.s3.amazonaws.com/models/ja/2018-04-20/jawiki_20180420_100d.pkl.bz2\n",
            "Resolving wikipedia2vec.s3.amazonaws.com (wikipedia2vec.s3.amazonaws.com)... 52.219.16.41\n",
            "Connecting to wikipedia2vec.s3.amazonaws.com (wikipedia2vec.s3.amazonaws.com)|52.219.16.41|:80... connected.\n",
            "HTTP request sent, awaiting response... 200 OK\n",
            "Length: 1224734486 (1.1G) [application/x-bzip2]\n",
            "Saving to: ‘jawiki_20180420_100d.pkl.bz2’\n",
            "\n",
            "jawiki_20180420_100 100%[===================>]   1.14G  13.2MB/s    in 91s     \n",
            "\n",
            "2021-03-16 14:33:11 (12.9 MB/s) - ‘jawiki_20180420_100d.pkl.bz2’ saved [1224734486/1224734486]\n",
            "\n"
          ],
          "name": "stdout"
        }
      ]
    },
    {
      "cell_type": "code",
      "metadata": {
        "id": "WpAcQQP8cKdk"
      },
      "source": [
        "!bzip2 -d jawiki_20180420_100d.pkl.bz2"
      ],
      "execution_count": 4,
      "outputs": []
    },
    {
      "cell_type": "code",
      "metadata": {
        "id": "Hyt0pLPIP8Bh"
      },
      "source": [
        "wiki2vec = Wikipedia2Vec.load('/content/jawiki_20180420_100d.pkl')"
      ],
      "execution_count": 5,
      "outputs": []
    },
    {
      "cell_type": "code",
      "metadata": {
        "colab": {
          "base_uri": "https://localhost:8080/"
        },
        "id": "SwR9Ol8kgcmD",
        "outputId": "8f0e0181-de74-4236-e4cb-dad7453303e4"
      },
      "source": [
        "wiki2vec.get_word_vector('チョコレート') #rouge"
      ],
      "execution_count": 28,
      "outputs": [
        {
          "output_type": "execute_result",
          "data": {
            "text/plain": [
              "memmap([ 0.49500403,  0.09217348,  0.49800366,  0.8659543 ,  0.1249439 ,\n",
              "        -0.22070552,  0.28689858,  0.13211289, -0.00999665, -0.46344382,\n",
              "         0.9612901 , -0.00960118,  0.5033939 , -0.01370508, -0.09551864,\n",
              "        -0.22323589, -0.611248  , -0.11911391,  0.18269846,  0.05750863,\n",
              "        -0.11306593,  0.63656753,  0.28418154, -0.38990274, -0.3997413 ,\n",
              "         0.59032375, -0.08430412,  0.5023019 , -0.10863294,  0.33666554,\n",
              "         0.7006441 ,  0.31779745, -0.64433986,  0.32181105, -0.09100069,\n",
              "        -0.12818299,  0.05560787, -0.0740974 , -0.10905939,  0.04366725,\n",
              "        -0.20070328, -0.33305725,  0.66203207,  0.30484572,  0.60846424,\n",
              "        -0.76073486, -0.525382  , -0.03849918,  0.5979163 , -0.45781213,\n",
              "         0.12262664, -0.03801056,  0.24725085, -0.21036011, -0.45898044,\n",
              "         0.00635734, -0.12590182,  0.5981849 , -0.40946472, -0.29318944,\n",
              "         0.31809637, -0.25744036,  0.00360503,  0.29573828, -0.10471778,\n",
              "         0.36121523,  0.6174264 ,  0.5924196 , -0.29542127,  1.0373175 ,\n",
              "        -0.30868006, -0.23783137, -0.29833248, -0.14938335,  0.3400326 ,\n",
              "         0.825711  , -0.15986799, -0.08289977,  0.32299373,  0.7536595 ,\n",
              "         0.4026867 , -0.489377  ,  0.24171725, -0.41730067,  0.06679722,\n",
              "        -0.9644571 ,  0.6869844 , -0.04572888,  0.03004683,  0.14784698,\n",
              "         0.10559717,  0.30440262, -0.6864533 , -0.0453332 ,  0.23329322,\n",
              "         0.5375189 , -0.5076538 ,  0.69846505, -0.18558791,  0.03291311],\n",
              "       dtype=float32)"
            ]
          },
          "metadata": {
            "tags": []
          },
          "execution_count": 28
        }
      ]
    },
    {
      "cell_type": "code",
      "metadata": {
        "colab": {
          "base_uri": "https://localhost:8080/"
        },
        "id": "qdXe0BmkQBjA",
        "outputId": "ee14e75d-f3bf-4343-ce3b-452dbd741dfe"
      },
      "source": [
        "((wiki2vec.get_word_vector('チョコレート')-wiki2vec.get_word_vector('黒'))**2).mean()#chocolat-noir"
      ],
      "execution_count": 29,
      "outputs": [
        {
          "output_type": "execute_result",
          "data": {
            "text/plain": [
              "0.17958374"
            ]
          },
          "metadata": {
            "tags": []
          },
          "execution_count": 29
        }
      ]
    },
    {
      "cell_type": "code",
      "metadata": {
        "colab": {
          "base_uri": "https://localhost:8080/"
        },
        "id": "7EXyaTD3fOd0",
        "outputId": "664fb5a1-b879-4cb3-bebb-9a341d4c679d"
      },
      "source": [
        "((wiki2vec.get_word_vector('闇')-wiki2vec.get_word_vector('黒'))**2).mean()#dark-noir"
      ],
      "execution_count": 32,
      "outputs": [
        {
          "output_type": "execute_result",
          "data": {
            "text/plain": [
              "0.10255718"
            ]
          },
          "metadata": {
            "tags": []
          },
          "execution_count": 32
        }
      ]
    },
    {
      "cell_type": "code",
      "metadata": {
        "colab": {
          "base_uri": "https://localhost:8080/"
        },
        "id": "991hLDgLQajJ",
        "outputId": "629bb4ec-d092-4db8-e3e4-ea5d1f780579"
      },
      "source": [
        "((wiki2vec.get_word_vector('チョコレート')-wiki2vec.get_word_vector('象'))**2).mean()#chocolat-elephant"
      ],
      "execution_count": 31,
      "outputs": [
        {
          "output_type": "execute_result",
          "data": {
            "text/plain": [
              "0.19048603"
            ]
          },
          "metadata": {
            "tags": []
          },
          "execution_count": 31
        }
      ]
    },
    {
      "cell_type": "code",
      "metadata": {
        "colab": {
          "base_uri": "https://localhost:8080/"
        },
        "id": "YOw2Qqizjjud",
        "outputId": "959daf33-b012-4f81-8dc2-33d4e92d7bb4"
      },
      "source": [
        "((wiki2vec.get_word_vector('グレー')-wiki2vec.get_word_vector('金属'))**2).mean()#gris-métal"
      ],
      "execution_count": 33,
      "outputs": [
        {
          "output_type": "execute_result",
          "data": {
            "text/plain": [
              "0.20520352"
            ]
          },
          "metadata": {
            "tags": []
          },
          "execution_count": 33
        }
      ]
    },
    {
      "cell_type": "code",
      "metadata": {
        "colab": {
          "base_uri": "https://localhost:8080/"
        },
        "id": "ihUPTqIolvMm",
        "outputId": "9ecb04e0-83f8-491e-ac4d-56a2e975874e"
      },
      "source": [
        "wiki2vec.most_similar(wiki2vec.get_word('金属'), 5) #1)métal #2)aluminium  #3)Ferrocerium #4)Titane"
      ],
      "execution_count": 34,
      "outputs": [
        {
          "output_type": "execute_result",
          "data": {
            "text/plain": [
              "[(<Word 金属>, 1.0),\n",
              " (<Word アルミニウム>, 0.8336104),\n",
              " (<Word フェロセリウム>, 0.8252641),\n",
              " (<Word チタン>, 0.8236766),\n",
              " (<Word プラスチック>, 0.8231738)]"
            ]
          },
          "metadata": {
            "tags": []
          },
          "execution_count": 34
        }
      ]
    }
  ]
}